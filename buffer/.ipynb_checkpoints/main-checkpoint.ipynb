{
 "cells": [
  {
   "cell_type": "markdown",
   "id": "1cd9c7edec9d2808",
   "metadata": {},
   "source": [
    "# Part I: 文法四元组提取 Grammatical quadruple extraction"
   ]
  },
  {
   "cell_type": "code",
   "execution_count": 29,
   "id": "158428828a43a90",
   "metadata": {
    "ExecuteTime": {
     "end_time": "2024-04-15T00:51:20.949209Z",
     "start_time": "2024-04-15T00:51:20.934117Z"
    }
   },
   "outputs": [],
   "source": [
    "grammar_string = \"E ::= E + T | T\\nT ::= T * F | F\\nF ::= ( E ) | i\""
   ]
  },
  {
   "cell_type": "markdown",
   "id": "2eca4202ae369380",
   "metadata": {
    "jp-MarkdownHeadingCollapsed": true
   },
   "source": [
    "### 定义文法提取函数"
   ]
  },
  {
   "cell_type": "code",
   "execution_count": 3,
   "id": "1a138785b365c04d",
   "metadata": {
    "ExecuteTime": {
     "end_time": "2024-04-15T00:51:21.954970Z",
     "start_time": "2024-04-15T00:51:21.939895Z"
    }
   },
   "outputs": [],
   "source": [
    "def add_production(non_terminal, production, productions):\n",
    "    if non_terminal in productions:\n",
    "        productions[non_terminal].append(production)\n",
    "    else:\n",
    "        productions[non_terminal] = [production]\n",
    "\n",
    "def extract_from_line(s):\n",
    "    left,right = s.split('::=')\n",
    "    return left,right\n",
    "\n",
    "def extract_rules_from_right(ls,rs,p):\n",
    "    mid_re = rs.split('|')\n",
    "    for item in mid_re:\n",
    "        item_ts = []\n",
    "        for item_t in item:\n",
    "            item_ts += [item_t]\n",
    "        add_production(ls,item_ts,p)\n",
    "\n",
    "def extract_grammar_components(gs):\n",
    "    production = {}\n",
    "    start = ''\n",
    "    terminators = []\n",
    "    non_terminators = []\n",
    "    gs = gs.replace(' ','')\n",
    "    mid_s = gs.split(\"\\n\")\n",
    "    for item_s in mid_s:\n",
    "        left,right = extract_from_line(item_s)\n",
    "        extract_rules_from_right(left, right, production)\n",
    "        if ('Z' >= left >= 'A') and left not in terminators:\n",
    "            terminators.append(left)\n",
    "        if start == '':\n",
    "            start = left\n",
    "        for item_r in right:\n",
    "            if item_r == '|': continue\n",
    "            if (item_r > 'Z' or item_r < 'A') and item_r not in non_terminators:\n",
    "                non_terminators.append(item_r)\n",
    "    return terminators,non_terminators,production,start"
   ]
  },
  {
   "cell_type": "markdown",
   "id": "73576b624eed949e",
   "metadata": {},
   "source": [
    "**检验输出**"
   ]
  },
  {
   "cell_type": "code",
   "execution_count": 4,
   "id": "2e21cf3dd0affa1a",
   "metadata": {
    "ExecuteTime": {
     "end_time": "2024-04-15T00:51:23.693681Z",
     "start_time": "2024-04-15T00:51:23.679579Z"
    }
   },
   "outputs": [
    {
     "name": "stdout",
     "output_type": "stream",
     "text": [
      "E ::= E + T | T\n",
      "T ::= T * F | F\n",
      "F ::= ( E ) | i \n",
      "\n",
      "['E', 'T', 'F']\n",
      "['+', '*', '(', ')', 'i']\n",
      "{'E': [['E', '+', 'T'], ['T']], 'T': [['T', '*', 'F'], ['F']], 'F': [['(', 'E', ')'], ['i']]}\n",
      "E\n"
     ]
    }
   ],
   "source": [
    "Vt,Vn,P,S = extract_grammar_components(grammar_string)\n",
    "print(grammar_string,'\\n')\n",
    "print(Vt)\n",
    "print(Vn)\n",
    "print(P)\n",
    "print(S)"
   ]
  },
  {
   "cell_type": "markdown",
   "id": "f3509308cc5dab1d",
   "metadata": {},
   "source": [
    "# Part II 文法压缩 Grammatical compression"
   ]
  },
  {
   "cell_type": "markdown",
   "id": "4cb20197-0797-41d4-9e59-d191774f3c20",
   "metadata": {
    "jp-MarkdownHeadingCollapsed": true
   },
   "source": [
    "### 测试数据"
   ]
  },
  {
   "cell_type": "code",
   "execution_count": 5,
   "id": "5e09cb04b0a06bb9",
   "metadata": {
    "ExecuteTime": {
     "end_time": "2024-04-15T00:52:55.044147Z",
     "start_time": "2024-04-15T00:52:55.036073Z"
    }
   },
   "outputs": [],
   "source": [
    "extra_string = \"Z ::= Be\\nA ::= Ae\\nA ::= e\\nB ::= Ce\\nB ::= Af\\nC ::= Cf\\nD ::= f\\nE ::= E\""
   ]
  },
  {
   "cell_type": "code",
   "execution_count": 6,
   "id": "c2a382f444f41f9b",
   "metadata": {
    "ExecuteTime": {
     "end_time": "2024-04-15T00:52:57.405366Z",
     "start_time": "2024-04-15T00:52:57.390445Z"
    }
   },
   "outputs": [
    {
     "name": "stdout",
     "output_type": "stream",
     "text": [
      "Z ::= Be\n",
      "A ::= Ae\n",
      "A ::= e\n",
      "B ::= Ce\n",
      "B ::= Af\n",
      "C ::= Cf\n",
      "D ::= f\n",
      "E ::= E \n",
      "\n",
      "['Z', 'A', 'B', 'C', 'D', 'E']\n",
      "['e', 'f']\n",
      "{'Z': [['B', 'e']], 'A': [['A', 'e'], ['e']], 'B': [['C', 'e'], ['A', 'f']], 'C': [['C', 'f']], 'D': [['f']], 'E': [['E']]}\n",
      "Z\n"
     ]
    }
   ],
   "source": [
    "e_Vt,e_Vn,e_P,e_S = extract_grammar_components(extra_string)\n",
    "print(extra_string,'\\n')\n",
    "print(e_Vt)\n",
    "print(e_Vn)\n",
    "print(e_P)\n",
    "print(e_S)"
   ]
  },
  {
   "cell_type": "markdown",
   "id": "205a09ce42de54f6",
   "metadata": {
    "jp-MarkdownHeadingCollapsed": true
   },
   "source": [
    "### 删除U::=U 型的规则"
   ]
  },
  {
   "cell_type": "code",
   "execution_count": 7,
   "id": "a0873ba7ed3d8566",
   "metadata": {
    "ExecuteTime": {
     "end_time": "2024-04-14T23:47:07.595029Z",
     "start_time": "2024-04-14T23:47:07.583689Z"
    }
   },
   "outputs": [],
   "source": [
    "def print_productions(productions):\n",
    "    for key in productions:\n",
    "        tss = \"\"\n",
    "        for item in productions[key]:\n",
    "            for item_s in item:\n",
    "                for item_t in item_s:\n",
    "                    tss += item_t\n",
    "            tss += '|'\n",
    "        print(f\"{key}::=\",tss[:-1])"
   ]
  },
  {
   "cell_type": "code",
   "execution_count": 8,
   "id": "89e938d77231a385",
   "metadata": {
    "ExecuteTime": {
     "end_time": "2024-04-15T00:53:23.321172Z",
     "start_time": "2024-04-15T00:53:23.309429Z"
    }
   },
   "outputs": [
    {
     "name": "stdout",
     "output_type": "stream",
     "text": [
      "Z::= Be\n",
      "A::= Ae|e\n",
      "B::= Ce|Af\n",
      "C::= Cf\n",
      "D::= f\n"
     ]
    }
   ],
   "source": [
    "def clean_UtoU(production):\n",
    "    # 创建一个新的字典来保存修改后的产生式\n",
    "    cleaned_production = {}\n",
    "    for key, value in production.items():\n",
    "        for item in value:\n",
    "            if key in item and len(item) == 1:\n",
    "                continue\n",
    "            add_production(key, item, cleaned_production)\n",
    "    return cleaned_production\n",
    "# da = {'Z': [['B', 'e']], 'A': [['A', 'e'], ['e']], 'B': [['C', 'e'], ['A', 'f'],['B']], 'C': [['C', 'f']], 'D': [['D']]}\n",
    "print_productions(clean_UtoU(e_P))"
   ]
  },
  {
   "cell_type": "markdown",
   "id": "229a8d6bb86293d0",
   "metadata": {
    "jp-MarkdownHeadingCollapsed": true
   },
   "source": [
    "### 删除U::=u 型的规则\n",
    "- 条件1：从S开始，对所有左部为有标记非终结符的生成式的右部的非终结符进行标记，反复进行这一过程至再无满足条件的生成式\n",
    "- 条件2：对所有右部只有终结符的生成式的左部的非终结符进行标记。对所有左部为非终结符且右部只有终结符和标记非终结符的生成式的左部的非终结符进行标记，反复执行这一过程至再无满足条件的生成式\n",
    "- 反复执行条件1和条件2的方法直至再无满足删除条件的生成式"
   ]
  },
  {
   "cell_type": "code",
   "execution_count": 9,
   "id": "1131dfda65b0dbb7",
   "metadata": {
    "ExecuteTime": {
     "end_time": "2024-04-15T00:54:06.786884Z",
     "start_time": "2024-04-15T00:54:06.766714Z"
    }
   },
   "outputs": [],
   "source": [
    "def clean_Utou1(production, start):\n",
    "    end_production = copy.deepcopy(production)  # 复制原始产生式字典\n",
    "    marks = [start]\n",
    "    start_list = production[start]\n",
    "    # 遍历起始符号的产生式，标记所有出现在其中的非终结符\n",
    "    for item in start_list:\n",
    "        for item_s in item:\n",
    "            if 'A' <= item_s <= 'Z' and item_s not in marks:\n",
    "                marks.append(item_s)\n",
    "    tag1 = True\n",
    "    tag2 = True\n",
    "    while tag1 or tag2:\n",
    "        tag1 = False\n",
    "        tag2 = False\n",
    "        # 根据标记集合更新标记\n",
    "        for key in production:\n",
    "            if key in marks:\n",
    "                continue\n",
    "            k_list = production[key]\n",
    "            for item in k_list:\n",
    "                for item_s in item:\n",
    "                    if 'A' <= item_s <= 'Z' and item_s in marks:\n",
    "                        tag1 = True\n",
    "                        marks.append(key)\n",
    "        for key in marks:\n",
    "            k_list = production[key]\n",
    "            for item in k_list:\n",
    "                for item_s in item:\n",
    "                    if 'A' <= item_s <= 'Z' and item_s not in marks:\n",
    "                        tag2 = True\n",
    "                        marks.append(item_s)\n",
    "    # 根据标记集合删除未标记的产生式\n",
    "    for key in end_production.copy():\n",
    "        if key not in marks:\n",
    "            del end_production[key]\n",
    "    return end_production\n",
    "\n",
    "def clean_Utou2(production):\n",
    "    end_production = {}\n",
    "    marks = []\n",
    "    for key in production:\n",
    "        for item in production[key]:\n",
    "            tag = True\n",
    "            # 检测是否有非终结符\n",
    "            for item_s in item:\n",
    "                if 'A' <= item_s <= 'Z':\n",
    "                    tag = False\n",
    "                    break\n",
    "            # 没有非终结符才能标记\n",
    "            if tag: \n",
    "                marks.append(key)\n",
    "                add_production(key,item,end_production)\n",
    "    tag1 = True\n",
    "    while tag1:\n",
    "        tag1 = False\n",
    "        for key in production:\n",
    "            for item in production[key]:\n",
    "                num_no_mark = False\n",
    "                # 检测右部是否只有被标记的非终结符和终结符\n",
    "                for item_s in item:\n",
    "                    if 'A' <= item_s <= 'Z' and item_s not in marks:\n",
    "                        num_no_mark = True\n",
    "                        break\n",
    "                # 右部只有被标记的非终结符和终结符时才能标记左部,当然前提是这条没被记录过\n",
    "                if not num_no_mark and (key not in end_production or item not in end_production[key]):\n",
    "                    tag1 = True\n",
    "                    marks.append(key)\n",
    "                    add_production(key,item,end_production)\n",
    "    return end_production       "
   ]
  },
  {
   "cell_type": "markdown",
   "id": "3770d50679a74211",
   "metadata": {},
   "source": [
    "**检验输出**"
   ]
  },
  {
   "cell_type": "code",
   "execution_count": 10,
   "id": "f3fefc59cb6cc85b",
   "metadata": {
    "ExecuteTime": {
     "end_time": "2024-04-15T00:54:11.107332Z",
     "start_time": "2024-04-15T00:54:11.098901Z"
    }
   },
   "outputs": [
    {
     "name": "stdout",
     "output_type": "stream",
     "text": [
      "Z::= Be\n",
      "A::= Ae|e\n",
      "B::= Ce|Af\n",
      "C::= Cf\n",
      "D::= f\n",
      "E::= E\n",
      "\n",
      "Z::= Be\n",
      "A::= Ae|e\n",
      "B::= Ce|Af\n",
      "C::= Cf\n"
     ]
    }
   ],
   "source": [
    "print_productions(e_P)\n",
    "print(\"\")\n",
    "clu = clean_Utou1(e_P,e_S)\n",
    "print_productions(clu)"
   ]
  },
  {
   "cell_type": "code",
   "execution_count": 11,
   "id": "46bdfa131292f4a9",
   "metadata": {
    "ExecuteTime": {
     "end_time": "2024-04-14T23:47:09.817100Z",
     "start_time": "2024-04-14T23:47:09.813987Z"
    }
   },
   "outputs": [
    {
     "name": "stdout",
     "output_type": "stream",
     "text": [
      "A::= e|Ae\n",
      "B::= Af\n",
      "Z::= Be\n"
     ]
    }
   ],
   "source": [
    "print_productions(clean_Utou2(clu))"
   ]
  },
  {
   "cell_type": "markdown",
   "id": "ee8da9d2cc09f5fd",
   "metadata": {
    "jp-MarkdownHeadingCollapsed": true
   },
   "source": [
    "### 自动化"
   ]
  },
  {
   "cell_type": "code",
   "execution_count": 12,
   "id": "96145af663d4e403",
   "metadata": {
    "ExecuteTime": {
     "end_time": "2024-04-15T00:55:00.518542Z",
     "start_time": "2024-04-15T00:55:00.503018Z"
    }
   },
   "outputs": [],
   "source": [
    "def auto_clean(production,start):\n",
    "    end_production = clean_UtoU(production)\n",
    "    tag = True\n",
    "    while tag:\n",
    "        end_production = clean_Utou1(end_production,start)\n",
    "        if end_production == end_production:\n",
    "            tag = False\n",
    "        end_production = clean_Utou2(end_production)\n",
    "        if end_production == end_production:\n",
    "            tag = False\n",
    "    return end_production"
   ]
  },
  {
   "cell_type": "markdown",
   "id": "a30a0c8cc1e69828",
   "metadata": {},
   "source": [
    "检验输出"
   ]
  },
  {
   "cell_type": "code",
   "execution_count": 13,
   "id": "75dd17616d9faac8",
   "metadata": {
    "ExecuteTime": {
     "end_time": "2024-04-15T00:55:01.908296Z",
     "start_time": "2024-04-15T00:55:01.890653Z"
    }
   },
   "outputs": [
    {
     "name": "stdout",
     "output_type": "stream",
     "text": [
      "Z::= Be\n",
      "A::= Ae|e\n",
      "B::= Ce|Af\n",
      "C::= Cf\n",
      "D::= f\n",
      "E::= E\n",
      "\n",
      "A::= e|Ae\n",
      "B::= Af\n",
      "Z::= Be\n"
     ]
    }
   ],
   "source": [
    "print_productions(e_P)\n",
    "print('')\n",
    "acl = auto_clean(e_P,e_S)\n",
    "print_productions(acl)"
   ]
  },
  {
   "cell_type": "markdown",
   "id": "b1205b63b0872de2",
   "metadata": {},
   "source": [
    "# Part III 消除左递归 Eliminate left recursion"
   ]
  },
  {
   "cell_type": "markdown",
   "id": "830aa311-454b-4dac-9c25-6059a6c19a5a",
   "metadata": {
    "jp-MarkdownHeadingCollapsed": true
   },
   "source": [
    "### 测试数据"
   ]
  },
  {
   "cell_type": "code",
   "execution_count": 30,
   "id": "42166b4a66b808c",
   "metadata": {
    "ExecuteTime": {
     "end_time": "2024-04-15T00:55:19.795413Z",
     "start_time": "2024-04-15T00:55:19.788438Z"
    }
   },
   "outputs": [
    {
     "name": "stdout",
     "output_type": "stream",
     "text": [
      "S ::= Sa | Tbc | Td\n",
      "T ::= Se | gh \n",
      "\n",
      "A ::= Ba | Cb | c\n",
      "B ::= da | Ae | f\n",
      "C ::= Bg | h\n"
     ]
    }
   ],
   "source": [
    "left_recursion_string = \"S ::= Sa | Tbc | Td\\nT ::= Se | gh\"\n",
    "left_recursion_string_1 = \"A ::= Ba | Cb | c\\nB ::= da | Ae | f\\nC ::= Bg | h\"\n",
    "print(left_recursion_string,'\\n')\n",
    "print(left_recursion_string_1)"
   ]
  },
  {
   "cell_type": "code",
   "execution_count": 31,
   "id": "cfc35100b4acc723",
   "metadata": {
    "ExecuteTime": {
     "end_time": "2024-04-15T00:55:23.073912Z",
     "start_time": "2024-04-15T00:55:23.067702Z"
    }
   },
   "outputs": [
    {
     "name": "stdout",
     "output_type": "stream",
     "text": [
      "['A', 'B', 'C']\n",
      "['a', 'b', 'c', 'd', 'e', 'f', 'g', 'h']\n",
      "{'A': [['B', 'a'], ['C', 'b'], ['c']], 'B': [['d', 'a'], ['A', 'e'], ['f']], 'C': [['B', 'g'], ['h']]}\n",
      "A\n"
     ]
    }
   ],
   "source": [
    "l_Vt_1,l_Vn_1,l_P_1,l_S_1 = extract_grammar_components(left_recursion_string_1)\n",
    "print(l_Vt_1)\n",
    "print(l_Vn_1)\n",
    "print(l_P_1)\n",
    "print(l_S_1)"
   ]
  },
  {
   "cell_type": "code",
   "execution_count": 32,
   "id": "688351eb673f5023",
   "metadata": {
    "ExecuteTime": {
     "end_time": "2024-04-15T00:55:23.482680Z",
     "start_time": "2024-04-15T00:55:23.474685Z"
    }
   },
   "outputs": [
    {
     "name": "stdout",
     "output_type": "stream",
     "text": [
      "['S', 'T']\n",
      "['a', 'b', 'c', 'd', 'e', 'g', 'h']\n",
      "{'S': [['S', 'a'], ['T', 'b', 'c'], ['T', 'd']], 'T': [['S', 'e'], ['g', 'h']]}\n",
      "S\n"
     ]
    }
   ],
   "source": [
    "l_Vt,l_Vn,l_P,l_S = extract_grammar_components(left_recursion_string)\n",
    "print(l_Vt)\n",
    "print(l_Vn)\n",
    "print(l_P)\n",
    "print(l_S)"
   ]
  },
  {
   "cell_type": "markdown",
   "id": "94ed8797-2178-4cd0-963b-8174da46a578",
   "metadata": {
    "jp-MarkdownHeadingCollapsed": true
   },
   "source": [
    "### 函数方法实现"
   ]
  },
  {
   "cell_type": "code",
   "execution_count": 33,
   "id": "19f35472f0905f1a",
   "metadata": {
    "ExecuteTime": {
     "end_time": "2024-04-15T00:55:24.479410Z",
     "start_time": "2024-04-15T00:55:24.463281Z"
    }
   },
   "outputs": [],
   "source": [
    "def remove_production(non_terminal, production, productions):\n",
    "    if non_terminal in productions and production in productions[non_terminal]:\n",
    "        productions[non_terminal].remove(production)\n",
    "        if not productions[non_terminal]:  # If the set becomes empty, remove the key\n",
    "            del productions[non_terminal]\n",
    "\n",
    "def eliminate_rules(key_item,value_item,production):\n",
    "    end_production = copy.deepcopy(production)\n",
    "    mid_key_item = key_item\n",
    "    end_key_item = mid_key_item + \"'\"\n",
    "    mid_value_item = value_item.copy()\n",
    "    end_value_item = value_item.copy()\n",
    "    # 先改后删\n",
    "    for i in range(len(end_value_item)):\n",
    "        if end_value_item[i] == mid_key_item:\n",
    "            end_value_item.pop(i)\n",
    "            end_value_item.append(end_key_item)\n",
    "            break\n",
    "    for item in end_production[mid_key_item]:\n",
    "        if item == mid_value_item: continue\n",
    "        if mid_key_item in item: continue\n",
    "        if end_key_item in item: continue\n",
    "        item.append(end_key_item)\n",
    "    remove_production(mid_key_item,mid_value_item,end_production)\n",
    "    add_production(end_key_item,end_value_item,end_production)\n",
    "    if ['ε'] not in end_production[end_key_item]:\n",
    "        add_production(end_key_item,['ε'],end_production)\n",
    "    else:\n",
    "        remove_production(end_key_item,['ε'],end_production)\n",
    "        add_production(end_key_item,['ε'],end_production)\n",
    "    return end_production\n",
    "        \n",
    "def auto_eliminate_rules(productions):\n",
    "    end_productions = copy.deepcopy(productions)\n",
    "    tag = True\n",
    "    while tag:\n",
    "        tag = False\n",
    "        for key in end_productions:\n",
    "            for item in end_productions[key]:\n",
    "                # 消去规则左递归\n",
    "                if key in item and len(key) == 1:\n",
    "                    tag = True\n",
    "                    end_productions = eliminate_rules(key,item,end_productions)  \n",
    "    return end_productions\n",
    "\n",
    "\n",
    "def eliminate_grammar(productions):\n",
    "    mid_productions = copy.deepcopy(productions)\n",
    "    end_productions = copy.deepcopy(productions)\n",
    "    mid_changed_keys_list = []\n",
    "    for key in productions:\n",
    "        if \"'\" in key:\n",
    "            mid_changed_keys_list.append(key.replace(\"'\",''))\n",
    "    flg = False\n",
    "    for key in mid_productions:\n",
    "        if key in mid_changed_keys_list: continue\n",
    "        for item in mid_productions[key]:\n",
    "            tag = False\n",
    "            for i in range(len(item)):\n",
    "                if item[i] in mid_changed_keys_list:\n",
    "                    tag = True\n",
    "                    flg = True\n",
    "                    for item_i in mid_productions[item[i]]:\n",
    "                        end_item = item.copy()\n",
    "                        end_item.pop(i)\n",
    "                        end_item[i:i] = item_i\n",
    "                        add_production(key,end_item,end_productions)\n",
    "            if tag:\n",
    "                remove_production(key,item,end_productions)\n",
    "    return end_productions,flg           "
   ]
  },
  {
   "cell_type": "markdown",
   "id": "8a06ff5cf10c1341",
   "metadata": {},
   "source": [
    "**检验输出**"
   ]
  },
  {
   "cell_type": "code",
   "execution_count": 34,
   "id": "8226b3c69ba155ee",
   "metadata": {
    "ExecuteTime": {
     "end_time": "2024-04-15T00:55:25.716792Z",
     "start_time": "2024-04-15T00:55:25.699944Z"
    }
   },
   "outputs": [
    {
     "name": "stdout",
     "output_type": "stream",
     "text": [
      "S::= Sa|Tbc|Td\n",
      "T::= Se|gh\n",
      "\n",
      "\n",
      "S::= TbcS'|TdS'\n",
      "T::= Se|gh\n",
      "S'::= aS'|ε\n",
      "\n",
      "\n",
      "S::= TbcS'|TdS'\n",
      "T::= gh|TbcS'e|TdS'e\n",
      "S'::= aS'|ε\n",
      "True \n",
      "\n",
      "S::= TbcS'|TdS'\n",
      "T::= gh|TbcS'e|TdS'e\n",
      "S'::= aS'|ε\n",
      "False \n",
      "\n"
     ]
    }
   ],
   "source": [
    "print_productions(l_P)\n",
    "print('\\n')\n",
    "l_Pr = auto_eliminate_rules(l_P)\n",
    "print_productions(l_Pr)\n",
    "print('\\n')\n",
    "l_Pg,flg = eliminate_grammar(l_Pr)\n",
    "print_productions(l_Pg)\n",
    "print(flg,'\\n')\n",
    "l_Pg2,flg = eliminate_grammar(l_Pg)\n",
    "print_productions(l_Pg2)\n",
    "print(flg,'\\n')"
   ]
  },
  {
   "cell_type": "markdown",
   "id": "912a94f29b43e2b8",
   "metadata": {
    "jp-MarkdownHeadingCollapsed": true
   },
   "source": [
    "### 自动化"
   ]
  },
  {
   "cell_type": "code",
   "execution_count": 19,
   "id": "bacfed1af08a4d46",
   "metadata": {
    "ExecuteTime": {
     "end_time": "2024-04-14T23:47:14.172727Z",
     "start_time": "2024-04-14T23:47:14.156593Z"
    }
   },
   "outputs": [],
   "source": [
    "def auto_eliminate_left_recursion(productions):\n",
    "    end_productions = copy.deepcopy(productions)\n",
    "    while True:  \n",
    "        end_productions = auto_eliminate_rules(end_productions)\n",
    "        end_productions,flg = eliminate_grammar(end_productions)\n",
    "        if not flg:\n",
    "            break\n",
    "    return end_productions"
   ]
  },
  {
   "cell_type": "markdown",
   "id": "586a06751c5638d3",
   "metadata": {},
   "source": [
    "**检验输出**"
   ]
  },
  {
   "cell_type": "code",
   "execution_count": 20,
   "id": "c2d13dae242832db",
   "metadata": {
    "ExecuteTime": {
     "end_time": "2024-04-14T23:47:14.781248Z",
     "start_time": "2024-04-14T23:47:14.771543Z"
    }
   },
   "outputs": [
    {
     "name": "stdout",
     "output_type": "stream",
     "text": [
      "S::= Sa|Tbc|Td\n",
      "T::= Se|gh\n",
      "\n",
      "S::= TbcS'|TdS'\n",
      "T::= ghT'\n",
      "S'::= aS'|ε\n",
      "T'::= bcS'eT'|dS'eT'|ε\n"
     ]
    }
   ],
   "source": [
    "print_productions(l_P)\n",
    "l_Pc = auto_eliminate_left_recursion(l_P)\n",
    "print('')\n",
    "print_productions(l_Pc)"
   ]
  },
  {
   "cell_type": "code",
   "execution_count": 21,
   "id": "a50d2c9c36330f01",
   "metadata": {
    "ExecuteTime": {
     "end_time": "2024-04-14T23:47:15.164387Z",
     "start_time": "2024-04-14T23:47:15.154718Z"
    }
   },
   "outputs": [
    {
     "name": "stdout",
     "output_type": "stream",
     "text": [
      "E::= E+T|T\n",
      "T::= T*F|F\n",
      "F::= (E)|i\n",
      "\n",
      "E::= TE'\n",
      "T::= FT'\n",
      "F::= iF'\n",
      "E'::= ε|+iF'T'E'\n",
      "T'::= ε|*iF'T'\n",
      "F'::= (T'E')F'|ε\n"
     ]
    }
   ],
   "source": [
    "print_productions(P)\n",
    "Pc = auto_eliminate_left_recursion(P)\n",
    "print('')\n",
    "print_productions(Pc)"
   ]
  },
  {
   "cell_type": "markdown",
   "id": "b4716332ae43d5aa",
   "metadata": {},
   "source": [
    "# Part IV 最左推导 Leftmost derivation"
   ]
  },
  {
   "cell_type": "markdown",
   "id": "d376c05a-76aa-4bfb-b026-764d4cc34b23",
   "metadata": {
    "jp-MarkdownHeadingCollapsed": true
   },
   "source": [
    "### 测试数据"
   ]
  },
  {
   "cell_type": "code",
   "execution_count": 22,
   "id": "a803cccf2cb7d875",
   "metadata": {
    "ExecuteTime": {
     "end_time": "2024-04-15T00:56:22.036441Z",
     "start_time": "2024-04-15T00:56:22.021854Z"
    }
   },
   "outputs": [
    {
     "name": "stdout",
     "output_type": "stream",
     "text": [
      "E::= E+T|T\n",
      "T::= T*F|F\n",
      "F::= (E)|i\n"
     ]
    }
   ],
   "source": [
    "print_productions(P)"
   ]
  },
  {
   "cell_type": "code",
   "execution_count": 23,
   "id": "ad75a9b4ed0fad08",
   "metadata": {
    "ExecuteTime": {
     "end_time": "2024-04-14T23:47:16.137122Z",
     "start_time": "2024-04-14T23:47:16.133974Z"
    }
   },
   "outputs": [
    {
     "name": "stdout",
     "output_type": "stream",
     "text": [
      "i + i * i\n",
      "( i + i ) * i\n"
     ]
    }
   ],
   "source": [
    "derivation_string = \"i + i * i\"\n",
    "derivation_string_1 = \"( i + i ) * i\"\n",
    "print(derivation_string)\n",
    "print(derivation_string_1)"
   ]
  },
  {
   "cell_type": "markdown",
   "id": "e82bf4fc5a3c5c70",
   "metadata": {
    "jp-MarkdownHeadingCollapsed": true
   },
   "source": [
    "### 构建推导方法函数"
   ]
  },
  {
   "cell_type": "code",
   "execution_count": 24,
   "id": "639efef6176495f6",
   "metadata": {
    "ExecuteTime": {
     "end_time": "2024-04-15T07:03:31.752466Z",
     "start_time": "2024-04-15T07:03:31.745909Z"
    }
   },
   "outputs": [],
   "source": [
    "def input_judgment(derived_string, key, end_string,pos):\n",
    "    while True:\n",
    "        answer = input(\"\\nDerive {} with {} -> {}? pos: {} (y/n): \\n\".format(derived_string, key, end_string,pos))\n",
    "        if answer == 'y':\n",
    "            return False\n",
    "        elif answer == 'n':\n",
    "            return True\n",
    "        else:\n",
    "            print(\"Please enter 'y' or 'n'\")\n",
    "            continue\n",
    "    # 如果回答不是'y'，则跳过当前产生式\n",
    "\n",
    "\n",
    "def auto_derivation(input_str, productions, start_symbol):\n",
    "    derived_string = start_symbol  # 初始时将起始符号作为推导的起点\n",
    "    result = \"\"  # 存储推导结果\n",
    "    tree = {}  # 存储语法分析树\n",
    "    # 逐步推导直到无法再推导为止\n",
    "    while derived_string:\n",
    "        derived = False  # 标志是否成功推导\n",
    "        # 遍历所有产生式\n",
    "        for key in productions:\n",
    "            # 如果当前推导串中包含产生式左部，则问询是否进行替换\n",
    "            if key in derived_string:\n",
    "                for item in productions[key]:\n",
    "                    # 问询是否替换\n",
    "                    end_string = \"\".join(item)\n",
    "                    pos = derived_string.find(key)\n",
    "                    if input_judgment(derived_string, key, end_string,pos + 1):\n",
    "                        continue  # 如果回答不是'y'，则跳过当前产生式\n",
    "\n",
    "                    # 将当前推导过程添加到结果中\n",
    "                    result += \" => {} ({} -> {})\\n\".format(derived_string, key, end_string)\n",
    "\n",
    "                    # 进行替换\n",
    "                    derived_string = derived_string[:pos] + end_string + derived_string[pos + len(key):]\n",
    "                    derived = True  # 表示成功推导\n",
    "                    \n",
    "                    end_item = [pos + 1,item]\n",
    "                    # 更新语法分析树\n",
    "                    if key in tree:\n",
    "                        tree[key].append(end_item)\n",
    "                    else:\n",
    "                        tree[key] = [end_item]\n",
    "                    break  # 结束当前循环，重新开始检查推导串\n",
    "\n",
    "                # 如果成功推导，就跳出外层循环\n",
    "                if derived:\n",
    "                    break\n",
    "\n",
    "        # 如果无法再进行推导，则退出循环\n",
    "        if derived_string == input_str:\n",
    "            result += \" => {}\\n\".format(derived_string)\n",
    "            break\n",
    "        if not derived:\n",
    "            result += \" => {}\\n\".format(derived_string)\n",
    "            break\n",
    "\n",
    "    return result, tree\n"
   ]
  },
  {
   "cell_type": "markdown",
   "id": "99490bb15ce205fe",
   "metadata": {},
   "source": [
    "检验输出"
   ]
  },
  {
   "cell_type": "code",
   "execution_count": 26,
   "id": "8c2e73610c884706",
   "metadata": {
    "ExecuteTime": {
     "end_time": "2024-04-15T08:54:17.592069Z",
     "start_time": "2024-04-15T08:53:38.803785Z"
    }
   },
   "outputs": [
    {
     "name": "stdin",
     "output_type": "stream",
     "text": [
      "\n",
      "Derive E with E -> E+T? pos: 1 (y/n): \n",
      " y\n",
      "\n",
      "Derive E+T with E -> E+T? pos: 1 (y/n): \n",
      " y\n",
      "\n",
      "Derive E+T+T with E -> E+T? pos: 1 (y/n): \n",
      " n\n",
      "\n",
      "Derive E+T+T with E -> T? pos: 1 (y/n): \n",
      " y\n",
      "\n",
      "Derive T+T+T with T -> T*F? pos: 1 (y/n): \n",
      " n\n",
      "\n",
      "Derive T+T+T with T -> F? pos: 1 (y/n): \n",
      " y\n",
      "\n",
      "Derive F+T+T with T -> T*F? pos: 3 (y/n): \n",
      " n\n",
      "\n",
      "Derive F+T+T with T -> F? pos: 3 (y/n): \n",
      " y\n",
      "\n",
      "Derive F+F+T with T -> T*F? pos: 5 (y/n): \n",
      " n\n",
      "\n",
      "Derive F+F+T with T -> F? pos: 5 (y/n): \n",
      " y\n",
      "\n",
      "Derive F+F+F with F -> (E)? pos: 1 (y/n): \n",
      " n\n",
      "\n",
      "Derive F+F+F with F -> i? pos: 1 (y/n): \n",
      " y\n",
      "\n",
      "Derive i+F+F with F -> (E)? pos: 3 (y/n): \n",
      " n\n",
      "\n",
      "Derive i+F+F with F -> i? pos: 3 (y/n): \n",
      " y\n",
      "\n",
      "Derive i+i+F with F -> (E)? pos: 5 (y/n): \n",
      " n\n",
      "\n",
      "Derive i+i+F with F -> i? pos: 5 (y/n): \n",
      " y\n"
     ]
    },
    {
     "name": "stdout",
     "output_type": "stream",
     "text": [
      " => E (E -> E+T)\n",
      " => E+T (E -> E+T)\n",
      " => E+T+T (E -> T)\n",
      " => T+T+T (T -> F)\n",
      " => F+T+T (T -> F)\n",
      " => F+F+T (T -> F)\n",
      " => F+F+F (F -> i)\n",
      " => i+F+F (F -> i)\n",
      " => i+i+F (F -> i)\n",
      " => i+i+i\n",
      "\n"
     ]
    }
   ],
   "source": [
    "rel, tre = auto_derivation(derivation_string, P, S)\n",
    "print(rel)"
   ]
  },
  {
   "cell_type": "markdown",
   "id": "86bdcf2826c2ebf5",
   "metadata": {},
   "source": [
    "\n",
    "# Part V 语法分析树构建 Parse Tree"
   ]
  },
  {
   "cell_type": "markdown",
   "id": "7406ca88-e602-411e-9b87-bfa27218b232",
   "metadata": {
    "jp-MarkdownHeadingCollapsed": true
   },
   "source": [
    "### 函数方法实现"
   ]
  },
  {
   "cell_type": "code",
   "execution_count": 27,
   "id": "4a3a3b5e83ac82f6",
   "metadata": {
    "ExecuteTime": {
     "end_time": "2024-04-15T09:38:42.140701Z",
     "start_time": "2024-04-15T09:38:42.133838Z"
    }
   },
   "outputs": [],
   "source": [
    "def generate_tree(tree, start):\n",
    "    mid_tree = copy.deepcopy(tree)\n",
    "    pre_string = \"_\" * 10 + start\n",
    "    result = pre_string + '\\n'\n",
    "    tag = True\n",
    "    while tag:\n",
    "        tag = False\n",
    "        cur_string = \"\"\n",
    "        j = 0\n",
    "        for i in range(len(pre_string)):\n",
    "            if pre_string[i] == '_': continue\n",
    "            j += 1\n",
    "            if pre_string[i] in mid_tree:\n",
    "                tag = True\n",
    "                item_left, item_rigth = mid_tree[pre_string[i]][0]\n",
    "                if j == item_left:\n",
    "                    mid_tree[pre_string[i]].pop(0)\n",
    "                    cur_string = pre_string[:i] + \"__________\".join(item_rigth) + pre_string[i + 1:]\n",
    "                    break\n",
    "        result += cur_string + '\\n'\n",
    "        pre_string = cur_string\n",
    "    return result\n"
   ]
  },
  {
   "cell_type": "markdown",
   "id": "477ef2f0b438ced8",
   "metadata": {},
   "source": [
    "**检验输出**"
   ]
  },
  {
   "cell_type": "code",
   "execution_count": 28,
   "id": "710131152ba9e5f0",
   "metadata": {
    "ExecuteTime": {
     "end_time": "2024-04-15T09:38:42.794659Z",
     "start_time": "2024-04-15T09:38:42.790277Z"
    }
   },
   "outputs": [
    {
     "name": "stdout",
     "output_type": "stream",
     "text": [
      "语法分析树：\n",
      "__________E\n",
      "__________E__________+__________T\n",
      "__________E__________+__________T__________+__________T\n",
      "__________T__________+__________T__________+__________T\n",
      "__________F__________+__________T__________+__________T\n",
      "__________i__________+__________T__________+__________T\n",
      "__________i__________+__________F__________+__________T\n",
      "__________i__________+__________i__________+__________T\n",
      "__________i__________+__________i__________+__________F\n",
      "__________i__________+__________i__________+__________i\n",
      "\n",
      "\n"
     ]
    }
   ],
   "source": [
    "# 测试\n",
    "print(\"语法分析树：\")\n",
    "ans = generate_tree(tre, S)\n",
    "print(ans)"
   ]
  },
  {
   "cell_type": "code",
   "execution_count": null,
   "id": "1cfbb4fc-8185-4058-9087-346356168841",
   "metadata": {},
   "outputs": [],
   "source": []
  }
 ],
 "metadata": {
  "kernelspec": {
   "display_name": "Python 3 (ipykernel)",
   "language": "python",
   "name": "python3"
  },
  "language_info": {
   "codemirror_mode": {
    "name": "ipython",
    "version": 3
   },
   "file_extension": ".py",
   "mimetype": "text/x-python",
   "name": "python",
   "nbconvert_exporter": "python",
   "pygments_lexer": "ipython3",
   "version": "3.11.8"
  }
 },
 "nbformat": 4,
 "nbformat_minor": 5
}
