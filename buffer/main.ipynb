{
 "cells": [
  {
   "cell_type": "markdown",
   "id": "1cd9c7edec9d2808",
   "metadata": {},
   "source": [
    "# Part I: 文法四元组提取 Grammatical quadruple extraction"
   ]
  },
  {
   "cell_type": "code",
   "id": "158428828a43a90",
   "metadata": {
    "ExecuteTime": {
     "end_time": "2024-04-20T07:58:09.509786Z",
     "start_time": "2024-04-20T07:58:09.498809Z"
    }
   },
   "source": [
    "grammar_string = \"E ::= E + T | T\\nT ::= T * F | F\\nF ::= ( E ) | i\""
   ],
   "outputs": [],
   "execution_count": 1
  },
  {
   "cell_type": "markdown",
   "id": "2eca4202ae369380",
   "metadata": {},
   "source": [
    "### 定义文法提取函数"
   ]
  },
  {
   "cell_type": "code",
   "id": "1a138785b365c04d",
   "metadata": {
    "ExecuteTime": {
     "end_time": "2024-04-20T08:28:41.230661Z",
     "start_time": "2024-04-20T08:28:41.224588Z"
    }
   },
   "source": [
    "def add_production(non_terminal, production, productions):\n",
    "    if non_terminal in productions:\n",
    "        productions[non_terminal].append(production)\n",
    "    else:\n",
    "        productions[non_terminal] = [production]\n",
    "\n",
    "def extract_from_line(s):\n",
    "    left,right = s.split('::=')\n",
    "    return left,right\n",
    "\n",
    "def extract_rules_from_right(ls,rs,p):\n",
    "    mid_re = rs.split('|')\n",
    "    for item in mid_re:\n",
    "        item_ts = []\n",
    "        for item_t in item:\n",
    "            item_ts += [item_t]\n",
    "        add_production(ls,item_ts,p)\n",
    "\n",
    "def extract_grammar_components(gs):\n",
    "    production = {}\n",
    "    start = ''\n",
    "    terminators = []\n",
    "    non_terminators = []\n",
    "    gs = gs.replace(' ','')\n",
    "    mid_s = gs.split(\"\\n\")\n",
    "    for item_s in mid_s:\n",
    "        left,right = extract_from_line(item_s)\n",
    "        extract_rules_from_right(left, right, production)\n",
    "        if ('Z' >= left >= 'A') and left not in terminators:\n",
    "            terminators.append(left)\n",
    "        if start == '':\n",
    "            start = left\n",
    "        for item_r in right:\n",
    "            if item_r == '|': continue\n",
    "            if (item_r > 'Z' or item_r < 'A') and item_r not in non_terminators:\n",
    "                non_terminators.append(item_r)\n",
    "    return terminators,non_terminators,production,start"
   ],
   "outputs": [],
   "execution_count": 5
  },
  {
   "cell_type": "markdown",
   "id": "73576b624eed949e",
   "metadata": {},
   "source": [
    "**检验输出**"
   ]
  },
  {
   "cell_type": "code",
   "id": "2e21cf3dd0affa1a",
   "metadata": {
    "ExecuteTime": {
     "end_time": "2024-04-20T08:28:42.135885Z",
     "start_time": "2024-04-20T08:28:42.131988Z"
    }
   },
   "source": [
    "Vt,Vn,P,S = extract_grammar_components(grammar_string)\n",
    "print(grammar_string,'\\n')\n",
    "print(Vt)\n",
    "print(Vn)\n",
    "print(P)\n",
    "print(S)"
   ],
   "outputs": [
    {
     "name": "stdout",
     "output_type": "stream",
     "text": [
      "E ::= E + T | T\n",
      "T ::= T * F | F\n",
      "F ::= ( E ) | i \n",
      "\n",
      "['E', 'T', 'F']\n",
      "['+', '*', '(', ')', 'i']\n",
      "{'E': [['E', '+', 'T'], ['T']], 'T': [['T', '*', 'F'], ['F']], 'F': [['(', 'E', ')'], ['i']]}\n",
      "E\n"
     ]
    }
   ],
   "execution_count": 6
  },
  {
   "cell_type": "markdown",
   "id": "f3509308cc5dab1d",
   "metadata": {},
   "source": [
    "# Part II 文法压缩 Grammatical compression"
   ]
  },
  {
   "cell_type": "markdown",
   "id": "4cb20197-0797-41d4-9e59-d191774f3c20",
   "metadata": {},
   "source": [
    "### 测试数据"
   ]
  },
  {
   "cell_type": "code",
   "id": "5e09cb04b0a06bb9",
   "metadata": {
    "ExecuteTime": {
     "end_time": "2024-04-20T08:28:44.995938Z",
     "start_time": "2024-04-20T08:28:44.993429Z"
    }
   },
   "source": [
    "extra_string = \"Z ::= Be\\nA ::= Ae\\nA ::= e\\nB ::= Ce\\nB ::= Af\\nC ::= Cf\\nD ::= f\\nE ::= E\""
   ],
   "outputs": [],
   "execution_count": 7
  },
  {
   "cell_type": "code",
   "id": "c2a382f444f41f9b",
   "metadata": {
    "ExecuteTime": {
     "end_time": "2024-04-20T08:28:45.426941Z",
     "start_time": "2024-04-20T08:28:45.423058Z"
    }
   },
   "source": [
    "e_Vt,e_Vn,e_P,e_S = extract_grammar_components(extra_string)\n",
    "print(extra_string,'\\n')\n",
    "print(e_Vt)\n",
    "print(e_Vn)\n",
    "print(e_P)\n",
    "print(e_S)"
   ],
   "outputs": [
    {
     "name": "stdout",
     "output_type": "stream",
     "text": [
      "Z ::= Be\n",
      "A ::= Ae\n",
      "A ::= e\n",
      "B ::= Ce\n",
      "B ::= Af\n",
      "C ::= Cf\n",
      "D ::= f\n",
      "E ::= E \n",
      "\n",
      "['Z', 'A', 'B', 'C', 'D', 'E']\n",
      "['e', 'f']\n",
      "{'Z': [['B', 'e']], 'A': [['A', 'e'], ['e']], 'B': [['C', 'e'], ['A', 'f']], 'C': [['C', 'f']], 'D': [['f']], 'E': [['E']]}\n",
      "Z\n"
     ]
    }
   ],
   "execution_count": 8
  },
  {
   "cell_type": "markdown",
   "id": "205a09ce42de54f6",
   "metadata": {},
   "source": [
    "### 删除U::=U 型的规则"
   ]
  },
  {
   "cell_type": "code",
   "id": "a0873ba7ed3d8566",
   "metadata": {
    "ExecuteTime": {
     "end_time": "2024-04-20T08:28:47.928758Z",
     "start_time": "2024-04-20T08:28:47.924346Z"
    }
   },
   "source": [
    "def print_productions(productions):\n",
    "    for key in productions:\n",
    "        tss = \"\"\n",
    "        for item in productions[key]:\n",
    "            for item_s in item:\n",
    "                for item_t in item_s:\n",
    "                    tss += item_t\n",
    "            tss += '|'\n",
    "        print(f\"{key}::=\",tss[:-1])"
   ],
   "outputs": [],
   "execution_count": 9
  },
  {
   "cell_type": "code",
   "id": "89e938d77231a385",
   "metadata": {
    "ExecuteTime": {
     "end_time": "2024-04-20T08:28:48.284848Z",
     "start_time": "2024-04-20T08:28:48.279440Z"
    }
   },
   "source": [
    "def clean_UtoU(production):\n",
    "    # 创建一个新的字典来保存修改后的产生式\n",
    "    cleaned_production = {}\n",
    "    for key, value in production.items():\n",
    "        for item in value:\n",
    "            if key in item and len(item) == 1:\n",
    "                continue\n",
    "            add_production(key, item, cleaned_production)\n",
    "    return cleaned_production\n",
    "# da = {'Z': [['B', 'e']], 'A': [['A', 'e'], ['e']], 'B': [['C', 'e'], ['A', 'f'],['B']], 'C': [['C', 'f']], 'D': [['D']]}\n",
    "print_productions(clean_UtoU(e_P))"
   ],
   "outputs": [
    {
     "name": "stdout",
     "output_type": "stream",
     "text": [
      "Z::= Be\n",
      "A::= Ae|e\n",
      "B::= Ce|Af\n",
      "C::= Cf\n",
      "D::= f\n"
     ]
    }
   ],
   "execution_count": 10
  },
  {
   "cell_type": "markdown",
   "id": "229a8d6bb86293d0",
   "metadata": {},
   "source": [
    "### 删除U::=u 型的规则\n",
    "- 条件1：从S开始，对所有左部为有标记非终结符的生成式的右部的非终结符进行标记，反复进行这一过程至再无满足条件的生成式\n",
    "- 条件2：对所有右部只有终结符的生成式的左部的非终结符进行标记。对所有左部为非终结符且右部只有终结符和标记非终结符的生成式的左部的非终结符进行标记，反复执行这一过程至再无满足条件的生成式\n",
    "- 反复执行条件1和条件2的方法直至再无满足删除条件的生成式"
   ]
  },
  {
   "cell_type": "code",
   "id": "1131dfda65b0dbb7",
   "metadata": {
    "ExecuteTime": {
     "end_time": "2024-04-20T08:28:49.257184Z",
     "start_time": "2024-04-20T08:28:49.247181Z"
    }
   },
   "source": [
    "import copy\n",
    "\n",
    "\n",
    "def clean_Utou1(production, start):\n",
    "    end_production = copy.deepcopy(production)  # 复制原始产生式字典\n",
    "    marks = [start]\n",
    "    start_list = production[start]\n",
    "    # 遍历起始符号的产生式，标记所有出现在其中的非终结符\n",
    "    for item in start_list:\n",
    "        for item_s in item:\n",
    "            if 'A' <= item_s <= 'Z' and item_s not in marks:\n",
    "                marks.append(item_s)\n",
    "    tag1 = True\n",
    "    tag2 = True\n",
    "    while tag1 or tag2:\n",
    "        tag1 = False\n",
    "        tag2 = False\n",
    "        # 根据标记集合更新标记\n",
    "        for key in production:\n",
    "            if key in marks:\n",
    "                continue\n",
    "            k_list = production[key]\n",
    "            for item in k_list:\n",
    "                for item_s in item:\n",
    "                    if 'A' <= item_s <= 'Z' and item_s in marks:\n",
    "                        tag1 = True\n",
    "                        marks.append(key)\n",
    "        for key in marks:\n",
    "            k_list = production[key]\n",
    "            for item in k_list:\n",
    "                for item_s in item:\n",
    "                    if 'A' <= item_s <= 'Z' and item_s not in marks:\n",
    "                        tag2 = True\n",
    "                        marks.append(item_s)\n",
    "    # 根据标记集合删除未标记的产生式\n",
    "    for key in end_production.copy():\n",
    "        if key not in marks:\n",
    "            del end_production[key]\n",
    "    return end_production\n",
    "\n",
    "def clean_Utou2(production):\n",
    "    end_production = {}\n",
    "    marks = []\n",
    "    for key in production:\n",
    "        for item in production[key]:\n",
    "            tag = True\n",
    "            # 检测是否有非终结符\n",
    "            for item_s in item:\n",
    "                if 'A' <= item_s <= 'Z':\n",
    "                    tag = False\n",
    "                    break\n",
    "            # 没有非终结符才能标记\n",
    "            if tag: \n",
    "                marks.append(key)\n",
    "                add_production(key,item,end_production)\n",
    "    tag1 = True\n",
    "    while tag1:\n",
    "        tag1 = False\n",
    "        for key in production:\n",
    "            for item in production[key]:\n",
    "                num_no_mark = False\n",
    "                # 检测右部是否只有被标记的非终结符和终结符\n",
    "                for item_s in item:\n",
    "                    if 'A' <= item_s <= 'Z' and item_s not in marks:\n",
    "                        num_no_mark = True\n",
    "                        break\n",
    "                # 右部只有被标记的非终结符和终结符时才能标记左部,当然前提是这条没被记录过\n",
    "                if not num_no_mark and (key not in end_production or item not in end_production[key]):\n",
    "                    tag1 = True\n",
    "                    marks.append(key)\n",
    "                    add_production(key,item,end_production)\n",
    "    return end_production       "
   ],
   "outputs": [],
   "execution_count": 11
  },
  {
   "cell_type": "markdown",
   "id": "3770d50679a74211",
   "metadata": {},
   "source": [
    "**检验输出**"
   ]
  },
  {
   "cell_type": "code",
   "id": "f3fefc59cb6cc85b",
   "metadata": {
    "ExecuteTime": {
     "end_time": "2024-04-20T08:28:49.941947Z",
     "start_time": "2024-04-20T08:28:49.938398Z"
    }
   },
   "source": [
    "print_productions(e_P)\n",
    "print(\"\")\n",
    "clu = clean_Utou1(e_P,e_S)\n",
    "print_productions(clu)"
   ],
   "outputs": [
    {
     "name": "stdout",
     "output_type": "stream",
     "text": [
      "Z::= Be\n",
      "A::= Ae|e\n",
      "B::= Ce|Af\n",
      "C::= Cf\n",
      "D::= f\n",
      "E::= E\n",
      "\n",
      "Z::= Be\n",
      "A::= Ae|e\n",
      "B::= Ce|Af\n",
      "C::= Cf\n"
     ]
    }
   ],
   "execution_count": 12
  },
  {
   "cell_type": "code",
   "id": "46bdfa131292f4a9",
   "metadata": {
    "ExecuteTime": {
     "end_time": "2024-04-20T08:28:50.551070Z",
     "start_time": "2024-04-20T08:28:50.547414Z"
    }
   },
   "source": [
    "print_productions(clean_Utou2(clu))"
   ],
   "outputs": [
    {
     "name": "stdout",
     "output_type": "stream",
     "text": [
      "A::= e|Ae\n",
      "B::= Af\n",
      "Z::= Be\n"
     ]
    }
   ],
   "execution_count": 13
  },
  {
   "cell_type": "markdown",
   "id": "ee8da9d2cc09f5fd",
   "metadata": {},
   "source": [
    "### 自动化"
   ]
  },
  {
   "cell_type": "code",
   "id": "96145af663d4e403",
   "metadata": {
    "ExecuteTime": {
     "end_time": "2024-04-20T08:28:51.633489Z",
     "start_time": "2024-04-20T08:28:51.629029Z"
    }
   },
   "source": [
    "def auto_clean(production,start):\n",
    "    end_production = clean_UtoU(production)\n",
    "    tag = True\n",
    "    while tag:\n",
    "        end_production = clean_Utou1(end_production,start)\n",
    "        if end_production == end_production:\n",
    "            tag = False\n",
    "        end_production = clean_Utou2(end_production)\n",
    "        if end_production == end_production:\n",
    "            tag = False\n",
    "    return end_production"
   ],
   "outputs": [],
   "execution_count": 14
  },
  {
   "cell_type": "markdown",
   "id": "a30a0c8cc1e69828",
   "metadata": {},
   "source": [
    "检验输出"
   ]
  },
  {
   "cell_type": "code",
   "id": "75dd17616d9faac8",
   "metadata": {
    "ExecuteTime": {
     "end_time": "2024-04-20T08:28:52.606867Z",
     "start_time": "2024-04-20T08:28:52.602935Z"
    }
   },
   "source": [
    "print_productions(e_P)\n",
    "print('')\n",
    "acl = auto_clean(e_P,e_S)\n",
    "print_productions(acl)"
   ],
   "outputs": [
    {
     "name": "stdout",
     "output_type": "stream",
     "text": [
      "Z::= Be\n",
      "A::= Ae|e\n",
      "B::= Ce|Af\n",
      "C::= Cf\n",
      "D::= f\n",
      "E::= E\n",
      "\n",
      "A::= e|Ae\n",
      "B::= Af\n",
      "Z::= Be\n"
     ]
    }
   ],
   "execution_count": 15
  },
  {
   "cell_type": "markdown",
   "id": "b1205b63b0872de2",
   "metadata": {},
   "source": [
    "# Part III 消除左递归 Eliminate left recursion"
   ]
  },
  {
   "cell_type": "markdown",
   "id": "830aa311-454b-4dac-9c25-6059a6c19a5a",
   "metadata": {},
   "source": [
    "### 测试数据"
   ]
  },
  {
   "cell_type": "code",
   "execution_count": 53,
   "id": "42166b4a66b808c",
   "metadata": {
    "ExecuteTime": {
     "end_time": "2024-04-20T07:04:30.778418Z",
     "start_time": "2024-04-20T07:04:30.774890Z"
    }
   },
   "outputs": [
    {
     "name": "stdout",
     "output_type": "stream",
     "text": [
      "S ::= Sa | Tbc | Td\n",
      "T ::= Se | gh \n",
      "\n",
      "A ::= Ba | Cb | c\n",
      "B ::= da | Ae | f\n",
      "C ::= Bg | h\n"
     ]
    }
   ],
   "source": [
    "left_recursion_string = \"S ::= Sa | Tbc | Td\\nT ::= Se | gh\"\n",
    "left_recursion_string_1 = \"A ::= Ba | Cb | c\\nB ::= da | Ae | f\\nC ::= Bg | h\"\n",
    "print(left_recursion_string,'\\n')\n",
    "print(left_recursion_string_1)"
   ]
  },
  {
   "cell_type": "code",
   "execution_count": 54,
   "id": "cfc35100b4acc723",
   "metadata": {
    "ExecuteTime": {
     "end_time": "2024-04-20T07:04:30.840143Z",
     "start_time": "2024-04-20T07:04:30.836318Z"
    }
   },
   "outputs": [
    {
     "name": "stdout",
     "output_type": "stream",
     "text": [
      "['A', 'B', 'C']\n",
      "['a', 'b', 'c', 'd', 'e', 'f', 'g', 'h']\n",
      "{'A': [['B', 'a'], ['C', 'b'], ['c']], 'B': [['d', 'a'], ['A', 'e'], ['f']], 'C': [['B', 'g'], ['h']]}\n",
      "A\n"
     ]
    }
   ],
   "source": [
    "l_Vt_1,l_Vn_1,l_P_1,l_S_1 = extract_grammar_components(left_recursion_string_1)\n",
    "print(l_Vt_1)\n",
    "print(l_Vn_1)\n",
    "print(l_P_1)\n",
    "print(l_S_1)"
   ]
  },
  {
   "cell_type": "code",
   "execution_count": 55,
   "id": "688351eb673f5023",
   "metadata": {
    "ExecuteTime": {
     "end_time": "2024-04-20T07:04:30.940669Z",
     "start_time": "2024-04-20T07:04:30.936812Z"
    }
   },
   "outputs": [
    {
     "name": "stdout",
     "output_type": "stream",
     "text": [
      "['S', 'T']\n",
      "['a', 'b', 'c', 'd', 'e', 'g', 'h']\n",
      "{'S': [['S', 'a'], ['T', 'b', 'c'], ['T', 'd']], 'T': [['S', 'e'], ['g', 'h']]}\n",
      "S\n"
     ]
    }
   ],
   "source": [
    "l_Vt,l_Vn,l_P,l_S = extract_grammar_components(left_recursion_string)\n",
    "print(l_Vt)\n",
    "print(l_Vn)\n",
    "print(l_P)\n",
    "print(l_S)"
   ]
  },
  {
   "cell_type": "markdown",
   "id": "94ed8797-2178-4cd0-963b-8174da46a578",
   "metadata": {},
   "source": [
    "### 函数方法实现"
   ]
  },
  {
   "cell_type": "code",
   "execution_count": 56,
   "id": "19f35472f0905f1a",
   "metadata": {
    "ExecuteTime": {
     "end_time": "2024-04-20T07:04:31.102200Z",
     "start_time": "2024-04-20T07:04:31.091280Z"
    }
   },
   "outputs": [],
   "source": [
    "def remove_production(non_terminal, production, productions):\n",
    "    if non_terminal in productions and production in productions[non_terminal]:\n",
    "        productions[non_terminal].remove(production)\n",
    "        if not productions[non_terminal]:  # If the set becomes empty, remove the key\n",
    "            del productions[non_terminal]\n",
    "\n",
    "def eliminate_rules(key_item,value_item,production):\n",
    "    end_production = copy.deepcopy(production)\n",
    "    mid_key_item = key_item\n",
    "    end_key_item = mid_key_item + \"'\"\n",
    "    mid_value_item = value_item.copy()\n",
    "    end_value_item = value_item.copy()\n",
    "    # 先改后删\n",
    "    for i in range(len(end_value_item)):\n",
    "        if end_value_item[i] == mid_key_item:\n",
    "            end_value_item.pop(i)\n",
    "            end_value_item.append(end_key_item)\n",
    "            break\n",
    "    for item in end_production[mid_key_item]:\n",
    "        if item == mid_value_item: continue\n",
    "        if mid_key_item in item: continue\n",
    "        if end_key_item in item: continue\n",
    "        item.append(end_key_item)\n",
    "    remove_production(mid_key_item,mid_value_item,end_production)\n",
    "    add_production(end_key_item,end_value_item,end_production)\n",
    "    if ['ε'] not in end_production[end_key_item]:\n",
    "        add_production(end_key_item,['ε'],end_production)\n",
    "    else:\n",
    "        remove_production(end_key_item,['ε'],end_production)\n",
    "        add_production(end_key_item,['ε'],end_production)\n",
    "    return end_production\n",
    "        \n",
    "def auto_eliminate_rules(productions):\n",
    "    end_productions = copy.deepcopy(productions)\n",
    "    tag = True\n",
    "    while tag:\n",
    "        tag = False\n",
    "        for key in end_productions:\n",
    "            for item in end_productions[key]:\n",
    "                # 消去规则左递归\n",
    "                if key in item and len(key) == 1:\n",
    "                    tag = True\n",
    "                    end_productions = eliminate_rules(key,item,end_productions)  \n",
    "    return end_productions\n",
    "\n",
    "\n",
    "def eliminate_grammar(productions):\n",
    "    mid_productions = copy.deepcopy(productions)\n",
    "    end_productions = copy.deepcopy(productions)\n",
    "    mid_changed_keys_list = []\n",
    "    for key in productions:\n",
    "        if \"'\" in key:\n",
    "            mid_changed_keys_list.append(key.replace(\"'\",''))\n",
    "    flg = False\n",
    "    for key in mid_productions:\n",
    "        if key in mid_changed_keys_list: continue\n",
    "        for item in mid_productions[key]:\n",
    "            tag = False\n",
    "            for i in range(len(item)):\n",
    "                if item[i] in mid_changed_keys_list:\n",
    "                    tag = True\n",
    "                    flg = True\n",
    "                    for item_i in mid_productions[item[i]]:\n",
    "                        end_item = item.copy()\n",
    "                        end_item.pop(i)\n",
    "                        end_item[i:i] = item_i\n",
    "                        add_production(key,end_item,end_productions)\n",
    "            if tag:\n",
    "                remove_production(key,item,end_productions)\n",
    "    return end_productions,flg           "
   ]
  },
  {
   "cell_type": "markdown",
   "id": "8a06ff5cf10c1341",
   "metadata": {},
   "source": [
    "**检验输出**"
   ]
  },
  {
   "cell_type": "code",
   "execution_count": 57,
   "id": "8226b3c69ba155ee",
   "metadata": {
    "ExecuteTime": {
     "end_time": "2024-04-20T07:04:31.218893Z",
     "start_time": "2024-04-20T07:04:31.213361Z"
    }
   },
   "outputs": [
    {
     "name": "stdout",
     "output_type": "stream",
     "text": [
      "S::= Sa|Tbc|Td\n",
      "T::= Se|gh\n",
      "\n",
      "\n",
      "S::= TbcS'|TdS'\n",
      "T::= Se|gh\n",
      "S'::= aS'|ε\n",
      "\n",
      "\n",
      "S::= TbcS'|TdS'\n",
      "T::= gh|TbcS'e|TdS'e\n",
      "S'::= aS'|ε\n",
      "True \n",
      "\n",
      "S::= TbcS'|TdS'\n",
      "T::= gh|TbcS'e|TdS'e\n",
      "S'::= aS'|ε\n",
      "False \n",
      "\n"
     ]
    }
   ],
   "source": [
    "print_productions(l_P)\n",
    "print('\\n')\n",
    "l_Pr = auto_eliminate_rules(l_P)\n",
    "print_productions(l_Pr)\n",
    "print('\\n')\n",
    "l_Pg,flg = eliminate_grammar(l_Pr)\n",
    "print_productions(l_Pg)\n",
    "print(flg,'\\n')\n",
    "l_Pg2,flg = eliminate_grammar(l_Pg)\n",
    "print_productions(l_Pg2)\n",
    "print(flg,'\\n')"
   ]
  },
  {
   "cell_type": "markdown",
   "id": "912a94f29b43e2b8",
   "metadata": {},
   "source": [
    "### 自动化"
   ]
  },
  {
   "cell_type": "code",
   "execution_count": 58,
   "id": "bacfed1af08a4d46",
   "metadata": {
    "ExecuteTime": {
     "end_time": "2024-04-20T07:04:31.405504Z",
     "start_time": "2024-04-20T07:04:31.401819Z"
    }
   },
   "outputs": [],
   "source": [
    "def auto_eliminate_left_recursion(productions):\n",
    "    end_productions = copy.deepcopy(productions)\n",
    "    while True:  \n",
    "        end_productions = auto_eliminate_rules(end_productions)\n",
    "        end_productions,flg = eliminate_grammar(end_productions)\n",
    "        if not flg:\n",
    "            break\n",
    "    return end_productions"
   ]
  },
  {
   "cell_type": "markdown",
   "id": "586a06751c5638d3",
   "metadata": {},
   "source": [
    "**检验输出**"
   ]
  },
  {
   "cell_type": "code",
   "execution_count": 59,
   "id": "c2d13dae242832db",
   "metadata": {
    "ExecuteTime": {
     "end_time": "2024-04-20T07:04:31.692645Z",
     "start_time": "2024-04-20T07:04:31.686152Z"
    }
   },
   "outputs": [
    {
     "name": "stdout",
     "output_type": "stream",
     "text": [
      "S::= Sa|Tbc|Td\n",
      "T::= Se|gh\n",
      "\n",
      "S::= TbcS'|TdS'\n",
      "T::= ghT'\n",
      "S'::= aS'|ε\n",
      "T'::= bcS'eT'|dS'eT'|ε\n"
     ]
    }
   ],
   "source": [
    "print_productions(l_P)\n",
    "l_Pc = auto_eliminate_left_recursion(l_P)\n",
    "print('')\n",
    "print_productions(l_Pc)"
   ]
  },
  {
   "cell_type": "code",
   "execution_count": 60,
   "id": "a50d2c9c36330f01",
   "metadata": {
    "ExecuteTime": {
     "end_time": "2024-04-20T07:04:31.839174Z",
     "start_time": "2024-04-20T07:04:31.834111Z"
    }
   },
   "outputs": [
    {
     "name": "stdout",
     "output_type": "stream",
     "text": [
      "E::= E+T|T\n",
      "T::= T*F|F\n",
      "F::= (E)|i\n",
      "\n",
      "E::= TE'\n",
      "T::= FT'\n",
      "F::= iF'\n",
      "E'::= ε|+iF'T'E'\n",
      "T'::= ε|*iF'T'\n",
      "F'::= (T'E')F'|ε\n"
     ]
    }
   ],
   "source": [
    "print_productions(P)\n",
    "Pc = auto_eliminate_left_recursion(P)\n",
    "print('')\n",
    "print_productions(Pc)"
   ]
  },
  {
   "cell_type": "markdown",
   "id": "b4716332ae43d5aa",
   "metadata": {},
   "source": [
    "# Part IV 最左推导 Leftmost derivation"
   ]
  },
  {
   "cell_type": "markdown",
   "id": "d376c05a-76aa-4bfb-b026-764d4cc34b23",
   "metadata": {},
   "source": [
    "### 测试数据"
   ]
  },
  {
   "cell_type": "code",
   "execution_count": 61,
   "id": "a803cccf2cb7d875",
   "metadata": {
    "ExecuteTime": {
     "end_time": "2024-04-20T07:04:31.938870Z",
     "start_time": "2024-04-20T07:04:31.934791Z"
    }
   },
   "outputs": [
    {
     "name": "stdout",
     "output_type": "stream",
     "text": [
      "E::= E+T|T\n",
      "T::= T*F|F\n",
      "F::= (E)|i\n"
     ]
    }
   ],
   "source": [
    "print_productions(P)"
   ]
  },
  {
   "cell_type": "code",
   "execution_count": 62,
   "id": "ad75a9b4ed0fad08",
   "metadata": {
    "ExecuteTime": {
     "end_time": "2024-04-20T07:04:31.981999Z",
     "start_time": "2024-04-20T07:04:31.977787Z"
    }
   },
   "outputs": [
    {
     "name": "stdout",
     "output_type": "stream",
     "text": [
      "i + i * i\n",
      "( i + i ) * i\n"
     ]
    }
   ],
   "source": [
    "derivation_string = \"i + i * i\"\n",
    "derivation_string_1 = \"( i + i ) * i\"\n",
    "print(derivation_string)\n",
    "print(derivation_string_1)"
   ]
  },
  {
   "cell_type": "markdown",
   "id": "e82bf4fc5a3c5c70",
   "metadata": {},
   "source": [
    "### 构建推导方法函数"
   ]
  },
  {
   "cell_type": "code",
   "execution_count": 63,
   "id": "639efef6176495f6",
   "metadata": {
    "ExecuteTime": {
     "end_time": "2024-04-20T07:04:32.011893Z",
     "start_time": "2024-04-20T07:04:32.003706Z"
    }
   },
   "outputs": [],
   "source": [
    "def input_judgment(derived_string, key, end_string,pos):\n",
    "    while True:\n",
    "        answer = input(\"\\nDerive {} with {} -> {}? pos: {} (y/n): \\n\".format(derived_string, key, end_string,pos))\n",
    "        if answer == 'y':\n",
    "            return False\n",
    "        elif answer == 'n':\n",
    "            return True\n",
    "        else:\n",
    "            print(\"Please enter 'y' or 'n'\")\n",
    "            continue\n",
    "    # 如果回答不是'y'，则跳过当前产生式\n",
    "\n",
    "\n",
    "def find_value_in_list(lst, value):\n",
    "    for i, item in enumerate(lst):\n",
    "        if item == value:\n",
    "            return i\n",
    "    return -1\n",
    "\n",
    "\n",
    "def auto_derivation(input_str, productions, start_symbol):\n",
    "    derived_string = [start_symbol]  # 初始时将起始符号作为推导的起点\n",
    "    result = \"\"  # 存储推导结果\n",
    "    tree = {}  # 存储语法分析树\n",
    "    # 逐步推导直到无法再推导为止\n",
    "    while derived_string:\n",
    "        derived = False  # 标志是否成功推导\n",
    "        # 遍历所有产生式\n",
    "        for key in productions:\n",
    "            # 如果当前推导串中包含产生式左部，则问询是否进行替换\n",
    "            if key in derived_string:\n",
    "                for item in productions[key]:\n",
    "                    # 问询是否替换\n",
    "                    end_string = \"\".join(item)\n",
    "                    mid_string = \"\".join(derived_string)\n",
    "\n",
    "                    pos = find_value_in_list(derived_string, key)\n",
    "                    if input_judgment(mid_string, key, end_string,pos + 1):\n",
    "                        continue  # 如果回答不是'y'，则跳过当前产生式\n",
    "                    \n",
    "                    # 将当前推导过程添加到结果中\n",
    "                    result += \" => {} ({} -> {})\\n\".format(mid_string, key, end_string)\n",
    "\n",
    "                    # 进行替换\n",
    "                    derived_string[pos:pos+1] = item\n",
    "                    derived = True  # 表示成功推导\n",
    "                    \n",
    "                    end_item = [pos + 1,item]\n",
    "                    # 更新语法分析树\n",
    "                    if key in tree:\n",
    "                        tree[key].append(end_item)\n",
    "                    else:\n",
    "                        tree[key] = [end_item]\n",
    "                    break  # 结束当前循环，重新开始检查推导串\n",
    "\n",
    "                # 如果成功推导，就跳出外层循环\n",
    "                if derived:\n",
    "                    break\n",
    "\n",
    "        # 如果无法再进行推导，则退出循环\n",
    "        if derived_string == input_str:\n",
    "            mid_string_out = \"\".join(derived_string)\n",
    "            result += \" => {}\\n\".format(mid_string_out)\n",
    "            break\n",
    "        if not derived:\n",
    "            mid_string_out = \"\".join(derived_string)\n",
    "            result += \" => {}\\n\".format(mid_string_out)\n",
    "            break\n",
    "\n",
    "    return result, tree\n"
   ]
  },
  {
   "cell_type": "markdown",
   "id": "99490bb15ce205fe",
   "metadata": {},
   "source": [
    "检验输出"
   ]
  },
  {
   "cell_type": "code",
   "execution_count": 64,
   "id": "8c2e73610c884706",
   "metadata": {
    "ExecuteTime": {
     "end_time": "2024-04-20T07:04:51.875180Z",
     "start_time": "2024-04-20T07:04:32.027583Z"
    }
   },
   "outputs": [
    {
     "name": "stdout",
     "output_type": "stream",
     "text": [
      "Please enter 'y' or 'n'\n",
      " => E (E -> E+T)\n",
      " => E+T (E -> E+T)\n",
      " => E+T+T (E -> T)\n",
      " => T+T+T (T -> T*F)\n",
      " => T*F+T+T (T -> F)\n",
      " => F*F+T+T (T -> F)\n",
      " => F*F+F+T (T -> F)\n",
      " => F*F+F+F (F -> i)\n",
      " => i*F+F+F (F -> i)\n",
      " => i*i+F+F (F -> i)\n",
      " => i*i+i+F (F -> i)\n",
      " => i*i+i+i\n",
      "\n",
      "{'E': [[1, ['E', '+', 'T']], [1, ['E', '+', 'T']], [1, ['T']]], 'T': [[1, ['T', '*', 'F']], [1, ['F']], [5, ['F']], [7, ['F']]], 'F': [[1, ['i']], [3, ['i']], [5, ['i']], [7, ['i']]]}\n"
     ]
    }
   ],
   "source": [
    "rel, tre = auto_derivation(derivation_string, P, S)\n",
    "print(rel)\n",
    "print(tre)"
   ]
  },
  {
   "cell_type": "markdown",
   "id": "86bdcf2826c2ebf5",
   "metadata": {},
   "source": [
    "# Part V 语法分析树构建 Parse Tree"
   ]
  },
  {
   "cell_type": "markdown",
   "id": "7406ca88-e602-411e-9b87-bfa27218b232",
   "metadata": {},
   "source": [
    "### 函数方法实现"
   ]
  },
  {
   "cell_type": "code",
   "execution_count": 65,
   "id": "4a3a3b5e83ac82f6",
   "metadata": {
    "ExecuteTime": {
     "end_time": "2024-04-20T07:04:51.882194Z",
     "start_time": "2024-04-20T07:04:51.876187Z"
    }
   },
   "outputs": [],
   "source": [
    "def generate_tree(tree, start):\n",
    "    mid_tree = copy.deepcopy(tree)\n",
    "    pre_string = \"_\" * 10 + start\n",
    "    result = pre_string + '\\n'\n",
    "    tag = True\n",
    "    while tag:\n",
    "        tag = False\n",
    "        cur_string = \"\"\n",
    "        j = 0\n",
    "        for i in range(len(pre_string)):\n",
    "            if pre_string[i] == '_': continue\n",
    "            j += 1\n",
    "            if pre_string[i] in mid_tree:\n",
    "                tag = True\n",
    "                item_left, item_rigth = mid_tree[pre_string[i]][0]\n",
    "                if j == item_left:\n",
    "                    mid_tree[pre_string[i]].pop(0)\n",
    "                    cur_string = pre_string[:i] + \"__________\".join(item_rigth) + pre_string[i + 1:]\n",
    "                    break\n",
    "        result += cur_string + '\\n'\n",
    "        pre_string = cur_string\n",
    "    return result\n"
   ]
  },
  {
   "cell_type": "markdown",
   "id": "477ef2f0b438ced8",
   "metadata": {},
   "source": [
    "**检验输出**"
   ]
  },
  {
   "cell_type": "code",
   "execution_count": 66,
   "id": "710131152ba9e5f0",
   "metadata": {
    "ExecuteTime": {
     "end_time": "2024-04-20T07:04:51.888673Z",
     "start_time": "2024-04-20T07:04:51.883201Z"
    }
   },
   "outputs": [
    {
     "name": "stdout",
     "output_type": "stream",
     "text": [
      "语法分析树：\n",
      "__________E\n",
      "__________E__________+__________T\n",
      "__________E__________+__________T__________+__________T\n",
      "__________T__________+__________T__________+__________T\n",
      "__________T__________*__________F__________+__________T__________+__________T\n",
      "__________F__________*__________F__________+__________T__________+__________T\n",
      "__________i__________*__________F__________+__________T__________+__________T\n",
      "__________i__________*__________i__________+__________T__________+__________T\n",
      "__________i__________*__________i__________+__________F__________+__________T\n",
      "__________i__________*__________i__________+__________i__________+__________T\n",
      "__________i__________*__________i__________+__________i__________+__________F\n",
      "__________i__________*__________i__________+__________i__________+__________i\n",
      "\n",
      "\n"
     ]
    }
   ],
   "source": [
    "# 测试\n",
    "print(\"语法分析树：\")\n",
    "ans = generate_tree(tre, S)\n",
    "print(ans)"
   ]
  }
 ],
 "metadata": {
  "kernelspec": {
   "display_name": "Python 3 (ipykernel)",
   "language": "python",
   "name": "python3"
  },
  "language_info": {
   "codemirror_mode": {
    "name": "ipython",
    "version": 3
   },
   "file_extension": ".py",
   "mimetype": "text/x-python",
   "name": "python",
   "nbconvert_exporter": "python",
   "pygments_lexer": "ipython3",
   "version": "3.11.5"
  }
 },
 "nbformat": 4,
 "nbformat_minor": 5
}
